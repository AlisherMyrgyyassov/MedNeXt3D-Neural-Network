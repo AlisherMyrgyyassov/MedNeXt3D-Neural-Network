{
 "cells": [
  {
   "cell_type": "code",
   "execution_count": 1,
   "metadata": {},
   "outputs": [],
   "source": [
    "import torch\n",
    "import torch.nn as nn\n",
    "import torch.nn.functional as F\n",
    "import torch.optim as optim\n",
    "import torchvision.datasets as datasets\n",
    "import torchvision.transforms as transforms\n",
    "\n",
    "from torch.utils.tensorboard import SummaryWriter\n",
    "import torch.utils.checkpoint as checkpoint\n",
    "\n",
    "import matplotlib.pyplot as plt\n",
    "\n",
    "from torchvision.io import read_image\n",
    "\n",
    "import os\n",
    "import nibabel as nib\n",
    "import numpy as np\n",
    "from torch.utils.data import Dataset\n",
    "\n",
    "import torchvision.transforms.functional\n",
    "\n",
    "\n",
    "class DoubleConvolution(nn.Module):\n",
    "    \"\"\"\n",
    "    ### Two $3 \\times 3$ Convolution Layers\n",
    "    Each step in the contraction path and expansive path have two $3 \\times 3$\n",
    "    convolutional layers followed by ReLU activations.\n",
    "    In the U-Net paper they used $0$ padding,\n",
    "    but we use $1$ padding so that final feature map is not cropped.\n",
    "    \"\"\"\n",
    "\n",
    "    def __init__(self, in_channels: int, out_channels: int):\n",
    "        \"\"\"\n",
    "        :param in_channels: is the number of input channels\n",
    "        :param out_channels: is the number of output channels\n",
    "        \"\"\"\n",
    "        super().__init__()\n",
    "\n",
    "        # First $3 \\times 3$ convolutional layer\n",
    "        self.first = nn.Conv2d(in_channels, out_channels, kernel_size=3, padding=1)\n",
    "        self.act1 = nn.ReLU()\n",
    "        # Second $3 \\times 3$ convolutional layer\n",
    "        self.second = nn.Conv2d(out_channels, out_channels, kernel_size=3, padding=1)\n",
    "        self.act2 = nn.ReLU()\n",
    "\n",
    "    def forward(self, x: torch.Tensor):\n",
    "        # Apply the two convolution layers and activations\n",
    "        x = self.first(x)\n",
    "        x = self.act1(x)\n",
    "        x = self.second(x)\n",
    "        return self.act2(x)\n",
    "\n",
    "\n",
    "class DownSample(nn.Module):\n",
    "    \"\"\"\n",
    "    ### Down-sample\n",
    "    Each step in the contracting path down-samples the feature map with\n",
    "    a $2 \\times 2$ max pooling layer.\n",
    "    \"\"\"\n",
    "\n",
    "    def __init__(self):\n",
    "        super().__init__()\n",
    "        # Max pooling layer\n",
    "        self.pool = nn.MaxPool2d(2)\n",
    "\n",
    "    def forward(self, x: torch.Tensor):\n",
    "        return self.pool(x)\n",
    "\n",
    "\n",
    "class UpSample(nn.Module):\n",
    "    \"\"\"\n",
    "    ### Up-sample\n",
    "    Each step in the expansive path up-samples the feature map with\n",
    "    a $2 \\times 2$ up-convolution.\n",
    "    \"\"\"\n",
    "    def __init__(self, in_channels: int, out_channels: int):\n",
    "        super().__init__()\n",
    "\n",
    "        # Up-convolution\n",
    "        self.up = nn.ConvTranspose2d(in_channels, out_channels, kernel_size=2, stride=2)\n",
    "\n",
    "    def forward(self, x: torch.Tensor):\n",
    "        return self.up(x)\n",
    "\n",
    "\n",
    "class CropAndConcat(nn.Module):\n",
    "    \"\"\"\n",
    "    ### Crop and Concatenate the feature map\n",
    "    At every step in the expansive path the corresponding feature map from the contracting path\n",
    "    concatenated with the current feature map.\n",
    "    \"\"\"\n",
    "    def forward(self, x: torch.Tensor, contracting_x: torch.Tensor):\n",
    "        \"\"\"\n",
    "        :param x: current feature map in the expansive path\n",
    "        :param contracting_x: corresponding feature map from the contracting path\n",
    "        \"\"\"\n",
    "\n",
    "        # Crop the feature map from the contracting path to the size of the current feature map\n",
    "        contracting_x = torchvision.transforms.functional.center_crop(contracting_x, [x.shape[2], x.shape[3]])\n",
    "        # Concatenate the feature maps\n",
    "        x = torch.cat([x, contracting_x], dim=1)\n",
    "        #\n",
    "        return x\n",
    "\n",
    "\n",
    "class UNet(nn.Module):\n",
    "    \"\"\"\n",
    "    ## U-Net\n",
    "    \"\"\"\n",
    "    def __init__(self, in_channels: int, out_channels: int):\n",
    "        \"\"\"\n",
    "        :param in_channels: number of channels in the input image\n",
    "        :param out_channels: number of channels in the result feature map\n",
    "        \"\"\"\n",
    "        super().__init__()\n",
    "\n",
    "        # Double convolution layers for the contracting path.\n",
    "        # The number of features gets doubled at each step starting from $64$.\n",
    "        self.down_conv = nn.ModuleList([DoubleConvolution(i, o) for i, o in\n",
    "                                        [(in_channels, 64), (64, 128), (128, 256), (256, 512)]])\n",
    "        # Down sampling layers for the contracting path\n",
    "        self.down_sample = nn.ModuleList([DownSample() for _ in range(4)])\n",
    "\n",
    "        # The two convolution layers at the lowest resolution (the bottom of the U).\n",
    "        self.middle_conv = DoubleConvolution(512, 1024)\n",
    "\n",
    "        # Up sampling layers for the expansive path.\n",
    "        # The number of features is halved with up-sampling.\n",
    "        self.up_sample = nn.ModuleList([UpSample(i, o) for i, o in\n",
    "                                        [(1024, 512), (512, 256), (256, 128), (128, 64)]])\n",
    "        # Double convolution layers for the expansive path.\n",
    "        # Their input is the concatenation of the current feature map and the feature map from the\n",
    "        # contracting path. Therefore, the number of input features is double the number of features\n",
    "        # from up-sampling.\n",
    "        self.up_conv = nn.ModuleList([DoubleConvolution(i, o) for i, o in\n",
    "                                      [(1024, 512), (512, 256), (256, 128), (128, 64)]])\n",
    "        # Crop and concatenate layers for the expansive path.\n",
    "        self.concat = nn.ModuleList([CropAndConcat() for _ in range(4)])\n",
    "        # Final $1 \\times 1$ convolution layer to produce the output\n",
    "        self.final_conv = nn.Conv2d(64, out_channels, kernel_size=1)\n",
    "        self.soft_max = nn.Softmax(dim=1)\n",
    "\n",
    "    def forward(self, x: torch.Tensor):\n",
    "        \"\"\"\n",
    "        :param x: input image\n",
    "        \"\"\"\n",
    "        # To collect the outputs of contracting path for later concatenation with the expansive path.\n",
    "        pass_through = []\n",
    "        # Contracting path\n",
    "        for i in range(len(self.down_conv)):\n",
    "            # Two $3 \\times 3$ convolutional layers\n",
    "            x = self.down_conv[i](x)\n",
    "            #print(\"Down Conv\", x.shape)\n",
    "            # Collect the output\n",
    "            pass_through.append(x)\n",
    "            # Down-sample\n",
    "            x = self.down_sample[i](x)\n",
    "            #print(\"Down Samp\", x.shape)\n",
    "\n",
    "        # Two $3 \\times 3$ convolutional layers at the bottom of the U-Net\n",
    "        x = self.middle_conv(x)\n",
    "\n",
    "        # Expansive path\n",
    "        for i in range(len(self.up_conv)):\n",
    "            # Up-sample\n",
    "            x = self.up_sample[i](x)\n",
    "            #print(\"Up Samp\", x.shape)\n",
    "            # Concatenate the output of the contracting path\n",
    "            x = self.concat[i](x, pass_through.pop())\n",
    "            #print(\"concat\", x.shape)\n",
    "            # Two $3 \\times 3$ convolutional layers\n",
    "            x = self.up_conv[i](x)\n",
    "            #print(\"Up Conv\", x.shape)\n",
    "\n",
    "        # Final $1 \\times 1$ convolution layer\n",
    "        x = self.final_conv(x)\n",
    "        #print(\"final\", x.shape)\n",
    "        x = self.soft_max(x)\n",
    "        #print(x.shape)\n",
    "\n",
    "        #\n",
    "        return x"
   ]
  },
  {
   "cell_type": "code",
   "execution_count": 1,
   "metadata": {},
   "outputs": [],
   "source": [
    "from collections import OrderedDict\n",
    "\n",
    "import torch\n",
    "import torch.nn as nn\n",
    "import torch.nn.functional as F\n",
    "import torch.optim as optim\n",
    "import torchvision.datasets as datasets\n",
    "import torchvision.transforms as transforms\n",
    "\n",
    "from torch.utils.tensorboard import SummaryWriter\n",
    "import torch.utils.checkpoint as checkpoint\n",
    "\n",
    "import matplotlib.pyplot as plt\n",
    "\n",
    "from torchvision.io import read_image\n",
    "\n",
    "import os\n",
    "import nibabel as nib\n",
    "import numpy as np\n",
    "from torch.utils.data import Dataset\n",
    "\n",
    "import torchvision.transforms.functional\n",
    "\n",
    "\n",
    "# https://www.kaggle.com/code/mateuszbuda/brain-segmentation-pytorch\n",
    "\n",
    "class UNet(nn.Module):\n",
    "\n",
    "    def __init__(self, in_channels=3, out_channels=1, init_features=32):\n",
    "        super(UNet, self).__init__()\n",
    "\n",
    "        features = init_features\n",
    "        self.encoder1 = UNet._block(in_channels, features, name=\"enc1\")\n",
    "        self.pool1 = nn.MaxPool2d(kernel_size=2, stride=2)\n",
    "        self.encoder2 = UNet._block(features, features * 2, name=\"enc2\")\n",
    "        self.pool2 = nn.MaxPool2d(kernel_size=2, stride=2)\n",
    "        self.encoder3 = UNet._block(features * 2, features * 4, name=\"enc3\")\n",
    "        self.pool3 = nn.MaxPool2d(kernel_size=2, stride=2)\n",
    "        self.encoder4 = UNet._block(features * 4, features * 8, name=\"enc4\")\n",
    "        self.pool4 = nn.MaxPool2d(kernel_size=2, stride=2)\n",
    "\n",
    "        self.bottleneck = UNet._block(features * 8, features * 16, name=\"bottleneck\")\n",
    "\n",
    "        self.upconv4 = nn.ConvTranspose2d(\n",
    "            features * 16, features * 8, kernel_size=2, stride=2\n",
    "        )\n",
    "        self.decoder4 = UNet._block((features * 8) * 2, features * 8, name=\"dec4\")\n",
    "        self.upconv3 = nn.ConvTranspose2d(\n",
    "            features * 8, features * 4, kernel_size=2, stride=2\n",
    "        )\n",
    "        self.decoder3 = UNet._block((features * 4) * 2, features * 4, name=\"dec3\")\n",
    "        self.upconv2 = nn.ConvTranspose2d(\n",
    "            features * 4, features * 2, kernel_size=2, stride=2\n",
    "        )\n",
    "        self.decoder2 = UNet._block((features * 2) * 2, features * 2, name=\"dec2\")\n",
    "        self.upconv1 = nn.ConvTranspose2d(\n",
    "            features * 2, features, kernel_size=2, stride=2\n",
    "        )\n",
    "        self.decoder1 = UNet._block(features * 2, features, name=\"dec1\")\n",
    "\n",
    "        self.conv = nn.Conv2d(\n",
    "            in_channels=features, out_channels=out_channels, kernel_size=1\n",
    "        )\n",
    "\n",
    "    def forward(self, x):\n",
    "        enc1 = self.encoder1(x)\n",
    "        enc2 = self.encoder2(self.pool1(enc1))\n",
    "        enc3 = self.encoder3(self.pool2(enc2))\n",
    "        enc4 = self.encoder4(self.pool3(enc3))\n",
    "\n",
    "        bottleneck = self.bottleneck(self.pool4(enc4))\n",
    "\n",
    "        dec4 = self.upconv4(bottleneck)\n",
    "        dec4 = torch.cat((dec4, enc4), dim=1)\n",
    "        dec4 = self.decoder4(dec4)\n",
    "        dec3 = self.upconv3(dec4)\n",
    "        dec3 = torch.cat((dec3, enc3), dim=1)\n",
    "        dec3 = self.decoder3(dec3)\n",
    "        dec2 = self.upconv2(dec3)\n",
    "        dec2 = torch.cat((dec2, enc2), dim=1)\n",
    "        dec2 = self.decoder2(dec2)\n",
    "        dec1 = self.upconv1(dec2)\n",
    "        dec1 = torch.cat((dec1, enc1), dim=1)\n",
    "        dec1 = self.decoder1(dec1)\n",
    "        return torch.sigmoid(self.conv(dec1))\n",
    "\n",
    "    @staticmethod\n",
    "    def _block(in_channels, features, name):\n",
    "        return nn.Sequential(\n",
    "            OrderedDict(\n",
    "                [\n",
    "                    (\n",
    "                        name + \"conv1\",\n",
    "                        nn.Conv2d(\n",
    "                            in_channels=in_channels,\n",
    "                            out_channels=features,\n",
    "                            kernel_size=3,\n",
    "                            padding=1,\n",
    "                            bias=False,\n",
    "                        ),\n",
    "                    ),\n",
    "                    (name + \"norm1\", nn.BatchNorm2d(num_features=features)),\n",
    "                    (name + \"relu1\", nn.ReLU(inplace=True)),\n",
    "                    (\n",
    "                        name + \"conv2\",\n",
    "                        nn.Conv2d(\n",
    "                            in_channels=features,\n",
    "                            out_channels=features,\n",
    "                            kernel_size=3,\n",
    "                            padding=1,\n",
    "                            bias=False,\n",
    "                        ),\n",
    "                    ),\n",
    "                    (name + \"norm2\", nn.BatchNorm2d(num_features=features)),\n",
    "                    (name + \"relu2\", nn.ReLU(inplace=True)),\n",
    "                ]\n",
    "            )\n",
    "        )"
   ]
  },
  {
   "cell_type": "code",
   "execution_count": 2,
   "metadata": {},
   "outputs": [
    {
     "name": "stdout",
     "output_type": "stream",
     "text": [
      "torch.Size([155, 4, 240, 240]) [number of samples, num of modalities, 240x240]\n"
     ]
    }
   ],
   "source": [
    "# Sample Input\n",
    "input_tensor = torch.randn([1, 4, 240, 240, 155]) # Each image 240x240 (155 slices)\n",
    "input_tensor = input_tensor[0, :, :, :, :]\n",
    "input_tensor = input_tensor.permute(3, 0, 1, 2)\n",
    "print (input_tensor.shape, \"[number of samples, num of modalities, 240x240]\")"
   ]
  },
  {
   "cell_type": "code",
   "execution_count": 4,
   "metadata": {},
   "outputs": [
    {
     "name": "stdout",
     "output_type": "stream",
     "text": [
      "Initial dimensions torch.Size([4, 240, 240])\n"
     ]
    },
    {
     "data": {
      "text/plain": [
       "torch.Size([1, 4, 240, 240])"
      ]
     },
     "execution_count": 4,
     "metadata": {},
     "output_type": "execute_result"
    }
   ],
   "source": [
    "# Test layers\n",
    "print (\"Initial dimensions\", input_tensor[1].shape)\n",
    "\n",
    "\"\"\"layer1 = DoubleConvolution(4, 64)\n",
    "print (\"Double convolution\", layer1(input_tensor[1]).shape)\n",
    "\n",
    "layer2 = DownSample ()\n",
    "print (\"Downsampling\", layer2(input_tensor[1]).shape)\"\"\"\n",
    "\n",
    "model_input = input_tensor[1][:,:,:].unsqueeze(dim = 0)\n",
    "model = UNet(4, 4)\n",
    "model(model_input).shape"
   ]
  },
  {
   "cell_type": "code",
   "execution_count": 5,
   "metadata": {},
   "outputs": [],
   "source": [
    "class BraTS2021Dataset(Dataset):\n",
    "    def __init__(self, data_dir):\n",
    "        self.data_dir = data_dir\n",
    "        self.patient_ids = os.listdir(data_dir)\n",
    "\n",
    "    def __len__(self):\n",
    "        return len(self.patient_ids)\n",
    "\n",
    "    def __getitem__(self, idx):\n",
    "        patient_id = self.patient_ids[idx]\n",
    "        scan_files = [os.path.join(self.data_dir, patient_id, f'{patient_id}_{modality}.nii.gz')\n",
    "                      for modality in ['t1', 't2', 't1ce', 'flair']]\n",
    "        mask_file = os.path.join(self.data_dir, patient_id, f'{patient_id}_seg.nii.gz')\n",
    "\n",
    "        # Load scan files and concatenate into a 4-channel tensor\n",
    "        # In the BraTS dataset specifically, each patient has four MRI scans available: \n",
    "        # T1-weighted, T1-weighted with contrast enhancement (T1ce), T2-weighted, and FLAIR. \n",
    "        # By concatenating these four scans into a single 4-channel tensor, we can provide \n",
    "        # the model with more information about the anatomy being imaged.\n",
    "        \n",
    "        scans = []\n",
    "        for scan_file in scan_files:\n",
    "            scan_data = nib.load(scan_file).get_fdata()\n",
    "            scans.append(scan_data)\n",
    "        scans_tensor = np.stack(scans, axis=0)\n",
    "        \n",
    "        # Load mask file and convert to integer labels\n",
    "        mask_data = nib.load(mask_file).get_fdata()\n",
    "        mask_tensor = (mask_data > 0).astype(np.int64) + (mask_data == 4).astype(np.int64) * 2\n",
    "        \n",
    "        # Normalize scans and convert to PyTorch tensor\n",
    "        scans_tensor -= np.mean(scans_tensor)\n",
    "        scans_tensor /= np.std(scans_tensor)\n",
    "        scans_tensor = torch.from_numpy(scans_tensor).float()\n",
    "        \n",
    "        # Convert mask to PyTorch tensor\n",
    "        mask_tensor = torch.from_numpy(mask_tensor).long()\n",
    "        \n",
    "        return scans_tensor, mask_tensor"
   ]
  },
  {
   "cell_type": "code",
   "execution_count": 6,
   "metadata": {},
   "outputs": [
    {
     "name": "stdout",
     "output_type": "stream",
     "text": [
      "Scan tensor shape: torch.Size([4, 240, 240, 155])\n",
      "Mask tensor shape: torch.Size([240, 240, 155])\n"
     ]
    },
    {
     "data": {
      "image/png": "[encoded data removed]",
      "text/plain": [
       "<Figure size 1080x360 with 5 Axes>"
      ]
     },
     "metadata": {
      "needs_background": "light"
     },
     "output_type": "display_data"
    }
   ],
   "source": [
    "# Test the dataset\n",
    "\n",
    "data_dir = 'C:/Users/alist/WorkCodes/Datasets/BRATS2021TRAINDATASET'\n",
    "dataset = BraTS2021Dataset(data_dir)\n",
    "\n",
    "# Load a single patient's MRI scan and segmentation mask\n",
    "patient_idx = 1\n",
    "scan, mask = dataset[patient_idx]\n",
    "\n",
    "# Print shape of scan and mask tensors\n",
    "print('Scan tensor shape:', scan.shape)\n",
    "print('Mask tensor shape:', mask.shape)\n",
    "\n",
    "# Visualize the scan and mask using matplotlib\n",
    "fig, axs = plt.subplots(1, 5, figsize=(15, 5))\n",
    "for i in range(4):\n",
    "    axs[i].imshow(scan[i][:, :, 100], cmap='gray')\n",
    "    axs[i].set_title(f'Modality {i+1}')\n",
    "axs[4].imshow(mask[:, :, 100], cmap='gray')\n",
    "axs[4].set_title('Segmentation Mask')\n",
    "plt.show()"
   ]
  },
  {
   "cell_type": "code",
   "execution_count": 7,
   "metadata": {},
   "outputs": [],
   "source": [
    "import torch.utils.data\n",
    "\n",
    "# Define split sizes\n",
    "train_size = int(0.8 * len(dataset))\n",
    "test_size = len(dataset) - train_size\n",
    "\n",
    "# Split the whole dataset into train and test dataset. Is validation needed?\n",
    "train_dataset, test_dataset = torch.utils.data.random_split(dataset, [train_size, test_size])\n",
    "\n",
    "device = torch.device(\"cuda\" if torch.cuda.is_available() else \"cpu\")"
   ]
  },
  {
   "cell_type": "code",
   "execution_count": 8,
   "metadata": {},
   "outputs": [
    {
     "name": "stdout",
     "output_type": "stream",
     "text": [
      "|===========================================================================|\n",
      "|                  PyTorch CUDA memory summary, device ID 0                 |\n",
      "|---------------------------------------------------------------------------|\n",
      "|            CUDA OOMs: 0            |        cudaMalloc retries: 0         |\n",
      "|===========================================================================|\n",
      "|        Metric         | Cur Usage  | Peak Usage | Tot Alloc  | Tot Freed  |\n",
      "|---------------------------------------------------------------------------|\n",
      "| Allocated memory      |      0 B   |      0 B   |      0 B   |      0 B   |\n",
      "|       from large pool |      0 B   |      0 B   |      0 B   |      0 B   |\n",
      "|       from small pool |      0 B   |      0 B   |      0 B   |      0 B   |\n",
      "|---------------------------------------------------------------------------|\n",
      "| Active memory         |      0 B   |      0 B   |      0 B   |      0 B   |\n",
      "|       from large pool |      0 B   |      0 B   |      0 B   |      0 B   |\n",
      "|       from small pool |      0 B   |      0 B   |      0 B   |      0 B   |\n",
      "|---------------------------------------------------------------------------|\n",
      "| Requested memory      |      0 B   |      0 B   |      0 B   |      0 B   |\n",
      "|       from large pool |      0 B   |      0 B   |      0 B   |      0 B   |\n",
      "|       from small pool |      0 B   |      0 B   |      0 B   |      0 B   |\n",
      "|---------------------------------------------------------------------------|\n",
      "| GPU reserved memory   |      0 B   |      0 B   |      0 B   |      0 B   |\n",
      "|       from large pool |      0 B   |      0 B   |      0 B   |      0 B   |\n",
      "|       from small pool |      0 B   |      0 B   |      0 B   |      0 B   |\n",
      "|---------------------------------------------------------------------------|\n",
      "| Non-releasable memory |      0 B   |      0 B   |      0 B   |      0 B   |\n",
      "|       from large pool |      0 B   |      0 B   |      0 B   |      0 B   |\n",
      "|       from small pool |      0 B   |      0 B   |      0 B   |      0 B   |\n",
      "|---------------------------------------------------------------------------|\n",
      "| Allocations           |       0    |       0    |       0    |       0    |\n",
      "|       from large pool |       0    |       0    |       0    |       0    |\n",
      "|       from small pool |       0    |       0    |       0    |       0    |\n",
      "|---------------------------------------------------------------------------|\n",
      "| Active allocs         |       0    |       0    |       0    |       0    |\n",
      "|       from large pool |       0    |       0    |       0    |       0    |\n",
      "|       from small pool |       0    |       0    |       0    |       0    |\n",
      "|---------------------------------------------------------------------------|\n",
      "| GPU reserved segments |       0    |       0    |       0    |       0    |\n",
      "|       from large pool |       0    |       0    |       0    |       0    |\n",
      "|       from small pool |       0    |       0    |       0    |       0    |\n",
      "|---------------------------------------------------------------------------|\n",
      "| Non-releasable allocs |       0    |       0    |       0    |       0    |\n",
      "|       from large pool |       0    |       0    |       0    |       0    |\n",
      "|       from small pool |       0    |       0    |       0    |       0    |\n",
      "|---------------------------------------------------------------------------|\n",
      "| Oversize allocations  |       0    |       0    |       0    |       0    |\n",
      "|---------------------------------------------------------------------------|\n",
      "| Oversize GPU segments |       0    |       0    |       0    |       0    |\n",
      "|===========================================================================|\n",
      "\n",
      "Current GPU memory usage: 0.00 MB\n"
     ]
    }
   ],
   "source": [
    "#Clean all memory unused\n",
    "import gc\n",
    "\n",
    "print(torch.cuda.memory_summary())\n",
    "\n",
    "torch.cuda.empty_cache()\n",
    "gc.collect() #force garbage collection\n",
    "print(f\"Current GPU memory usage: {torch.cuda.memory_allocated() / 1024**2:.2f} MB\")"
   ]
  },
  {
   "cell_type": "code",
   "execution_count": 9,
   "metadata": {},
   "outputs": [
    {
     "name": "stdout",
     "output_type": "stream",
     "text": [
      "Current GPU memory usage: 0.00 MB\n"
     ]
    }
   ],
   "source": [
    "print(f\"Current GPU memory usage: {torch.cuda.memory_allocated() / 1024**2:.2f} MB\")"
   ]
  },
  {
   "cell_type": "code",
   "execution_count": 10,
   "metadata": {},
   "outputs": [
    {
     "name": "stdout",
     "output_type": "stream",
     "text": [
      "My GPU is correctly configured. GPU device name: NVIDIA GeForce RTX 3080 Laptop GPU\n"
     ]
    }
   ],
   "source": [
    "if torch.cuda.is_available():\n",
    "    device = torch.cuda.get_device_name(0)\n",
    "    print('My GPU is correctly configured. GPU device name:', device)\n",
    "else:\n",
    "    print('No GPU available')\n",
    "    \n",
    "device = torch.device(\"cuda\" if torch.cuda.is_available() else \"cpu\")\n",
    "model = UNet(4, 4).to(device)"
   ]
  },
  {
   "cell_type": "code",
   "execution_count": 22,
   "metadata": {},
   "outputs": [],
   "source": [
    "\"\"\"from torch import Tensor\n",
    "def dice_coeff(input: Tensor, target: Tensor, reduce_batch_first: bool = False, epsilon: float = 1e-6):\n",
    "    # Average of Dice coefficient for all batches, or for a single mask\n",
    "    assert input.size() == target.size()\n",
    "    assert input.dim() == 3 or not reduce_batch_first\n",
    "\n",
    "    sum_dim = (-1, -2) if input.dim() == 2 or not reduce_batch_first else (-1, -2, -3)\n",
    "\n",
    "    inter = 2 * (input * target).sum(dim=sum_dim)\n",
    "    sets_sum = input.sum(dim=sum_dim) + target.sum(dim=sum_dim)\n",
    "    sets_sum = torch.where(sets_sum == 0, inter, sets_sum)\n",
    "\n",
    "    dice = (inter + epsilon) / (sets_sum + epsilon)\n",
    "    return dice.mean()\n",
    "\n",
    "\n",
    "def multiclass_dice_coeff(input: Tensor, target: Tensor, reduce_batch_first: bool = False, epsilon: float = 1e-6):\n",
    "    # Average of Dice coefficient for all classes\n",
    "    return dice_coeff(input.flatten(0, 1), target.flatten(0, 1), reduce_batch_first, epsilon)\n",
    "\n",
    "\n",
    "def dice_loss(input: Tensor, target: Tensor, multiclass: bool = False):\n",
    "    # Dice loss (objective to minimize) between 0 and 1\n",
    "    fn = multiclass_dice_coeff if multiclass else dice_coeff\n",
    "    return 1 - fn(input, target, reduce_batch_first=True)\n",
    "\"\"\"\n",
    "\n",
    "class DiceLoss(nn.Module):\n",
    "    def __init__(self, smooth=1):\n",
    "        super(DiceLoss, self).__init__()\n",
    "        self.smooth = smooth\n",
    "\n",
    "    def forward(self, input, target):\n",
    "        # Calculate Dice coefficient for each channel\n",
    "        dice_coeffs = []\n",
    "        for i in range(input.size(1)):\n",
    "            input_flat = input[:, i].view(-1)\n",
    "            target_flat = (target == i).float().view(-1)\n",
    "            intersection = (input_flat * target_flat).sum()\n",
    "            union = input_flat.sum() + target_flat.sum()\n",
    "            dice_coef = (2*intersection + self.smooth) / (union + self.smooth)\n",
    "            dice_coeffs.append(dice_coef)\n",
    "\n",
    "        # Calculate Dice loss\n",
    "        dice_loss = 1 - torch.mean(torch.stack(dice_coeffs))\n",
    "\n",
    "        return dice_loss"
   ]
  },
  {
   "cell_type": "code",
   "execution_count": 23,
   "metadata": {},
   "outputs": [
    {
     "ename": "KeyboardInterrupt",
     "evalue": "",
     "output_type": "error",
     "traceback": [
      "\u001b[1;31m---------------------------------------------------------------------------\u001b[0m",
      "\u001b[1;31mKeyboardInterrupt\u001b[0m                         Traceback (most recent call last)",
      "\u001b[1;32m~\\AppData\\Local\\Temp/ipykernel_18420/3549562260.py\u001b[0m in \u001b[0;36m<module>\u001b[1;34m\u001b[0m\n\u001b[0;32m     60\u001b[0m             \u001b[0moptimizer\u001b[0m\u001b[1;33m.\u001b[0m\u001b[0mstep\u001b[0m\u001b[1;33m(\u001b[0m\u001b[1;33m)\u001b[0m\u001b[1;33m\u001b[0m\u001b[1;33m\u001b[0m\u001b[0m\n\u001b[0;32m     61\u001b[0m \u001b[1;33m\u001b[0m\u001b[0m\n\u001b[1;32m---> 62\u001b[1;33m             \u001b[0mrunning_loss\u001b[0m \u001b[1;33m+=\u001b[0m \u001b[0mloss\u001b[0m\u001b[1;33m.\u001b[0m\u001b[0mitem\u001b[0m\u001b[1;33m(\u001b[0m\u001b[1;33m)\u001b[0m\u001b[1;33m\u001b[0m\u001b[1;33m\u001b[0m\u001b[0m\n\u001b[0m\u001b[0;32m     63\u001b[0m             \u001b[0mprint\u001b[0m\u001b[1;33m(\u001b[0m\u001b[0mloss\u001b[0m\u001b[1;33m.\u001b[0m\u001b[0mitem\u001b[0m\u001b[1;33m(\u001b[0m\u001b[1;33m)\u001b[0m\u001b[1;33m)\u001b[0m\u001b[1;33m\u001b[0m\u001b[1;33m\u001b[0m\u001b[0m\n\u001b[0;32m     64\u001b[0m             \u001b[1;31m#print(outputs.sum()) #WHY THEY ARE ALL THE SAME\u001b[0m\u001b[1;33m\u001b[0m\u001b[1;33m\u001b[0m\u001b[0m\n",
      "\u001b[1;31mKeyboardInterrupt\u001b[0m: "
     ]
    }
   ],
   "source": [
    "# Define hyperparameters\n",
    "learning_rate = 0.1\n",
    "num_epochs = 1\n",
    "\n",
    "# Define dataloaders\n",
    "train_loader = torch.utils.data.DataLoader(train_dataset, shuffle=True)\n",
    "test_loader = torch.utils.data.DataLoader(test_dataset, shuffle=False)\n",
    "\n",
    "# Define loss function and optimizer\n",
    "criterion = nn.CrossEntropyLoss() # nn.BCEWithLogitsLoss()\n",
    "optimizer = optim.Adam(model.parameters(), lr=learning_rate, weight_decay=0.0001)\n",
    "\n",
    "dice_loss = DiceLoss()\n",
    "\n",
    "# Load checkpoint ==============================\n",
    "checkpoint = torch.load('checkpoint.pth')\n",
    "\n",
    "# Extract relevant data from checkpoint\n",
    "#epoch = checkpoint['epoch']\n",
    "model.load_state_dict(checkpoint['model_state_dict'])\n",
    "#optimizer.load_state_dict(checkpoint['optimizer_state_dict'])\n",
    "#loss = checkpoint['loss']\n",
    "# ==============================================\n",
    "\n",
    "model.train()\n",
    "\n",
    "for epoch in range(num_epochs):\n",
    "    \n",
    "    running_loss = 0.0\n",
    "    totalTestLoss = 0\n",
    "\n",
    "    model.train()\n",
    "\n",
    "    for counter, (images, labels) in enumerate(train_loader):\n",
    "        set_images = images.permute(4, 0, 1, 2, 3)[:, 0, :, :, :].cuda()  # [batch, 4, 240, 240, 155] => [155, 4, 240, 240]\n",
    "        set_labels = labels.permute(3, 0, 1, 2)[:, 0, :, :].cuda() # [batch, 240, 240, 155] => [155, 240, 240]\n",
    "\n",
    "        image_chunks = torch.chunk(set_images, chunks=5, dim=0)\n",
    "        labels_chunks = torch.chunk(set_labels, chunks=5, dim=0)\n",
    "        #print (\"each image and mask\", image_chunks[0].shape, labels_chunks[0].shape)\n",
    "\n",
    "        for i in range(len(image_chunks)):\n",
    "            mini_img = image_chunks[i].to(device) # [31, 4, 240, 240]\n",
    "            mini_lbl = labels_chunks[i].to(device) # [31, 240, 240]\n",
    "            #print (\"each mini-batch and mini-mask\", mini_img.shape, mini_lbl.shape)\n",
    "            \n",
    "            # Forward pass\n",
    "            outputs = model(mini_img) # [31, 4, 240, 240] 4 indeces\n",
    "\n",
    "            \"\"\"plt.imshow(mini_lbl.float()[5].cpu(), cmap='gray')\n",
    "            plt.show()\"\"\"\n",
    "            #print(outputs.shape, mini_lbl.shape)\n",
    "\n",
    "            loss = criterion(outputs, mini_lbl)\n",
    "            \n",
    "\n",
    "            #print(outputs.shape, mini_lbl.shape)\n",
    "\n",
    "            # Backward and optimize\n",
    "            optimizer.zero_grad()\n",
    "            loss.backward()\n",
    "            optimizer.step()\n",
    "            \n",
    "            running_loss += loss.item()\n",
    "            print(loss.item())\n",
    "            #print(outputs.sum()) #WHY THEY ARE ALL THE SAME\n",
    "\n",
    "            #Why gradient norms are the same and all equal 0.000????\n",
    "            \"\"\"for name, param in model.named_parameters():\n",
    "                if param.grad is not None:\n",
    "                    print('%s: grad_norm=%.4f' % (name, param.grad.norm()))\"\"\"\n",
    "        \n",
    "        # switch off autograd\n",
    "        print(\"running_loss\", running_loss)\n",
    "        running_loss = 0\n",
    "        #print(outputs)\n",
    "        if counter % 10 == 9:\n",
    "            torch.save({\n",
    "            'epoch': epoch + 1,\n",
    "            'model_state_dict': model.state_dict(),\n",
    "            'optimizer_state_dict': optimizer.state_dict(),\n",
    "            'loss': running_loss,\n",
    "            },  'checkpoint.pth')\n",
    "            print(\"Successfully saved\")\n",
    "\n",
    "with torch.no_grad():\n",
    "    # set the model in evaluation mode\n",
    "    model.eval()\n",
    "    # loop over the validation set\n",
    "    for (x, y) in test_loader:\n",
    "        # send the input to the device\n",
    "        (x, y) = (x.permute(4, 0, 1, 2, 3)[:, 0, :, :, :].to(device), \n",
    "                    y.permute(3, 0, 1, 2)[:, 0, :, :].to(device))\n",
    "        image_chunks = torch.chunk(x, chunks=5, dim=0)\n",
    "        labels_chunks = torch.chunk(y, chunks=5, dim=0)\n",
    "        # make the predictions and calculate the validation loss\n",
    "        for i in range(len(image_chunks)):\n",
    "            mini_img = image_chunks[i].to(device)\n",
    "            mini_lbl = labels_chunks[i].to(device)\n",
    "            pred = model(mini_img)\n",
    "            totalTestLoss += criterion(pred, mini_lbl.float())\n",
    "        print(totalTestLoss)\n",
    "        totalTestLoss = 0\n",
    "\n",
    "\n",
    "        \n",
    "\n",
    "# batch input ([31, 4, 240, 240]) ========= batch mask ([31, 240, 240])\n",
    "# Output shape ([31, 4, 240, 240])"
   ]
  },
  {
   "cell_type": "code",
   "execution_count": 26,
   "metadata": {},
   "outputs": [],
   "source": [
    "# import the necessary packages\n",
    "import matplotlib.pyplot as plt\n",
    "import numpy as np\n",
    "import torch\n",
    "import os\n",
    "def prepare_plot(origImage, origMask, predMask):\n",
    "\t# initialize our figure\n",
    "\tfigure, ax = plt.subplots(nrows=1, ncols=3, figsize=(10, 10))\n",
    "\t# plot the original image, its mask, and the predicted mask\n",
    "\tax[0].imshow(origImage)\n",
    "\tax[1].imshow(origMask)\n",
    "\tax[2].imshow(predMask)\n",
    "\t# set the titles of the subplots\n",
    "\tax[0].set_title(\"Image\")\n",
    "\tax[1].set_title(\"Original Mask\")\n",
    "\tax[2].set_title(\"Predicted Mask\")\n",
    "\t# set the layout of the figure and display it\n",
    "\tfigure.tight_layout()\n",
    "\tfigure.show()"
   ]
  },
  {
   "cell_type": "code",
   "execution_count": 14,
   "metadata": {},
   "outputs": [
    {
     "data": {
      "image/png": "[encoded data removed]",
      "text/plain": [
       "<Figure size 432x288 with 1 Axes>"
      ]
     },
     "metadata": {
      "needs_background": "light"
     },
     "output_type": "display_data"
    }
   ],
   "source": [
    "# Another test\n",
    "mini_lbl.float().shape\n",
    "plt.imshow(mini_lbl.float()[5].cpu(), cmap='gray')\n",
    "plt.show()"
   ]
  },
  {
   "cell_type": "code",
   "execution_count": 17,
   "metadata": {},
   "outputs": [
    {
     "ename": "ValueError",
     "evalue": "Expected input batch_size (1) to match target batch_size (240).",
     "output_type": "error",
     "traceback": [
      "\u001b[1;31m---------------------------------------------------------------------------\u001b[0m",
      "\u001b[1;31mValueError\u001b[0m                                Traceback (most recent call last)",
      "\u001b[1;32m~\\AppData\\Local\\Temp/ipykernel_18420/3155043412.py\u001b[0m in \u001b[0;36m<module>\u001b[1;34m\u001b[0m\n\u001b[1;32m----> 1\u001b[1;33m \u001b[0mcriterion\u001b[0m \u001b[1;33m(\u001b[0m\u001b[0mmini_lbl\u001b[0m\u001b[1;33m.\u001b[0m\u001b[0mfloat\u001b[0m\u001b[1;33m(\u001b[0m\u001b[1;33m)\u001b[0m\u001b[1;33m[\u001b[0m\u001b[1;36m5\u001b[0m\u001b[1;33m]\u001b[0m\u001b[1;33m.\u001b[0m\u001b[0munsqueeze\u001b[0m\u001b[1;33m(\u001b[0m\u001b[0mdim\u001b[0m \u001b[1;33m=\u001b[0m \u001b[1;36m0\u001b[0m\u001b[1;33m)\u001b[0m\u001b[1;33m,\u001b[0m \u001b[0mmini_lbl\u001b[0m\u001b[1;33m.\u001b[0m\u001b[0mfloat\u001b[0m\u001b[1;33m(\u001b[0m\u001b[1;33m)\u001b[0m\u001b[1;33m[\u001b[0m\u001b[1;36m5\u001b[0m\u001b[1;33m]\u001b[0m\u001b[1;33m)\u001b[0m\u001b[1;33m\u001b[0m\u001b[1;33m\u001b[0m\u001b[0m\n\u001b[0m",
      "\u001b[1;32mc:\\Users\\alist\\anaconda3\\lib\\site-packages\\torch\\nn\\modules\\module.py\u001b[0m in \u001b[0;36m_call_impl\u001b[1;34m(self, *args, **kwargs)\u001b[0m\n\u001b[0;32m   1499\u001b[0m                 \u001b[1;32mor\u001b[0m \u001b[0m_global_backward_pre_hooks\u001b[0m \u001b[1;32mor\u001b[0m \u001b[0m_global_backward_hooks\u001b[0m\u001b[1;33m\u001b[0m\u001b[1;33m\u001b[0m\u001b[0m\n\u001b[0;32m   1500\u001b[0m                 or _global_forward_hooks or _global_forward_pre_hooks):\n\u001b[1;32m-> 1501\u001b[1;33m             \u001b[1;32mreturn\u001b[0m \u001b[0mforward_call\u001b[0m\u001b[1;33m(\u001b[0m\u001b[1;33m*\u001b[0m\u001b[0margs\u001b[0m\u001b[1;33m,\u001b[0m \u001b[1;33m**\u001b[0m\u001b[0mkwargs\u001b[0m\u001b[1;33m)\u001b[0m\u001b[1;33m\u001b[0m\u001b[1;33m\u001b[0m\u001b[0m\n\u001b[0m\u001b[0;32m   1502\u001b[0m         \u001b[1;31m# Do not call functions when jit is used\u001b[0m\u001b[1;33m\u001b[0m\u001b[1;33m\u001b[0m\u001b[0m\n\u001b[0;32m   1503\u001b[0m         \u001b[0mfull_backward_hooks\u001b[0m\u001b[1;33m,\u001b[0m \u001b[0mnon_full_backward_hooks\u001b[0m \u001b[1;33m=\u001b[0m \u001b[1;33m[\u001b[0m\u001b[1;33m]\u001b[0m\u001b[1;33m,\u001b[0m \u001b[1;33m[\u001b[0m\u001b[1;33m]\u001b[0m\u001b[1;33m\u001b[0m\u001b[1;33m\u001b[0m\u001b[0m\n",
      "\u001b[1;32mc:\\Users\\alist\\anaconda3\\lib\\site-packages\\torch\\nn\\modules\\loss.py\u001b[0m in \u001b[0;36mforward\u001b[1;34m(self, input, target)\u001b[0m\n\u001b[0;32m   1172\u001b[0m \u001b[1;33m\u001b[0m\u001b[0m\n\u001b[0;32m   1173\u001b[0m     \u001b[1;32mdef\u001b[0m \u001b[0mforward\u001b[0m\u001b[1;33m(\u001b[0m\u001b[0mself\u001b[0m\u001b[1;33m,\u001b[0m \u001b[0minput\u001b[0m\u001b[1;33m:\u001b[0m \u001b[0mTensor\u001b[0m\u001b[1;33m,\u001b[0m \u001b[0mtarget\u001b[0m\u001b[1;33m:\u001b[0m \u001b[0mTensor\u001b[0m\u001b[1;33m)\u001b[0m \u001b[1;33m->\u001b[0m \u001b[0mTensor\u001b[0m\u001b[1;33m:\u001b[0m\u001b[1;33m\u001b[0m\u001b[1;33m\u001b[0m\u001b[0m\n\u001b[1;32m-> 1174\u001b[1;33m         return F.cross_entropy(input, target, weight=self.weight,\n\u001b[0m\u001b[0;32m   1175\u001b[0m                                \u001b[0mignore_index\u001b[0m\u001b[1;33m=\u001b[0m\u001b[0mself\u001b[0m\u001b[1;33m.\u001b[0m\u001b[0mignore_index\u001b[0m\u001b[1;33m,\u001b[0m \u001b[0mreduction\u001b[0m\u001b[1;33m=\u001b[0m\u001b[0mself\u001b[0m\u001b[1;33m.\u001b[0m\u001b[0mreduction\u001b[0m\u001b[1;33m,\u001b[0m\u001b[1;33m\u001b[0m\u001b[1;33m\u001b[0m\u001b[0m\n\u001b[0;32m   1176\u001b[0m                                label_smoothing=self.label_smoothing)\n",
      "\u001b[1;32mc:\\Users\\alist\\anaconda3\\lib\\site-packages\\torch\\nn\\functional.py\u001b[0m in \u001b[0;36mcross_entropy\u001b[1;34m(input, target, weight, size_average, ignore_index, reduce, reduction, label_smoothing)\u001b[0m\n\u001b[0;32m   3027\u001b[0m     \u001b[1;32mif\u001b[0m \u001b[0msize_average\u001b[0m \u001b[1;32mis\u001b[0m \u001b[1;32mnot\u001b[0m \u001b[1;32mNone\u001b[0m \u001b[1;32mor\u001b[0m \u001b[0mreduce\u001b[0m \u001b[1;32mis\u001b[0m \u001b[1;32mnot\u001b[0m \u001b[1;32mNone\u001b[0m\u001b[1;33m:\u001b[0m\u001b[1;33m\u001b[0m\u001b[1;33m\u001b[0m\u001b[0m\n\u001b[0;32m   3028\u001b[0m         \u001b[0mreduction\u001b[0m \u001b[1;33m=\u001b[0m \u001b[0m_Reduction\u001b[0m\u001b[1;33m.\u001b[0m\u001b[0mlegacy_get_string\u001b[0m\u001b[1;33m(\u001b[0m\u001b[0msize_average\u001b[0m\u001b[1;33m,\u001b[0m \u001b[0mreduce\u001b[0m\u001b[1;33m)\u001b[0m\u001b[1;33m\u001b[0m\u001b[1;33m\u001b[0m\u001b[0m\n\u001b[1;32m-> 3029\u001b[1;33m     \u001b[1;32mreturn\u001b[0m \u001b[0mtorch\u001b[0m\u001b[1;33m.\u001b[0m\u001b[0m_C\u001b[0m\u001b[1;33m.\u001b[0m\u001b[0m_nn\u001b[0m\u001b[1;33m.\u001b[0m\u001b[0mcross_entropy_loss\u001b[0m\u001b[1;33m(\u001b[0m\u001b[0minput\u001b[0m\u001b[1;33m,\u001b[0m \u001b[0mtarget\u001b[0m\u001b[1;33m,\u001b[0m \u001b[0mweight\u001b[0m\u001b[1;33m,\u001b[0m \u001b[0m_Reduction\u001b[0m\u001b[1;33m.\u001b[0m\u001b[0mget_enum\u001b[0m\u001b[1;33m(\u001b[0m\u001b[0mreduction\u001b[0m\u001b[1;33m)\u001b[0m\u001b[1;33m,\u001b[0m \u001b[0mignore_index\u001b[0m\u001b[1;33m,\u001b[0m \u001b[0mlabel_smoothing\u001b[0m\u001b[1;33m)\u001b[0m\u001b[1;33m\u001b[0m\u001b[1;33m\u001b[0m\u001b[0m\n\u001b[0m\u001b[0;32m   3030\u001b[0m \u001b[1;33m\u001b[0m\u001b[0m\n\u001b[0;32m   3031\u001b[0m \u001b[1;33m\u001b[0m\u001b[0m\n",
      "\u001b[1;31mValueError\u001b[0m: Expected input batch_size (1) to match target batch_size (240)."
     ]
    }
   ],
   "source": [
    "criterion (mini_lbl.float()[5].unsqueeze(dim = 0), mini_lbl.float()[5])"
   ]
  },
  {
   "cell_type": "code",
   "execution_count": null,
   "metadata": {},
   "outputs": [],
   "source": []
  },
  {
   "cell_type": "code",
   "execution_count": 13,
   "metadata": {},
   "outputs": [
    {
     "name": "stdout",
     "output_type": "stream",
     "text": [
      "each inp torch.Size([1, 4, 240, 240])\n",
      "output shape torch.Size([4, 240, 240])\n"
     ]
    },
    {
     "data": {
      "image/png": "[encoded data removed]",
      "text/plain": [
       "<Figure size 1080x360 with 6 Axes>"
      ]
     },
     "metadata": {
      "needs_background": "light"
     },
     "output_type": "display_data"
    },
    {
     "name": "stdout",
     "output_type": "stream",
     "text": [
      "[[8.2733324e-22 1.4927754e-18 2.4009682e-18 ... 5.2132008e-18\n",
      "  9.6315401e-19 1.2629384e-21]\n",
      " [8.1323492e-19 5.3773629e-14 1.6262236e-13 ... 3.6364539e-13\n",
      "  3.8102859e-14 1.1531490e-18]\n",
      " [4.0353700e-18 9.1435084e-13 1.8598014e-12 ... 2.6253077e-12\n",
      "  4.7785701e-13 8.0948408e-18]\n",
      " ...\n",
      " [1.9480604e-18 1.7764490e-13 4.9131445e-13 ... 1.0393215e-12\n",
      "  1.3253118e-13 2.6763491e-18]\n",
      " [1.2854986e-18 1.2685034e-13 2.6762078e-13 ... 7.5886259e-13\n",
      "  7.6967973e-14 2.3664150e-18]\n",
      " [9.0055573e-22 1.0883740e-18 2.1221472e-18 ... 3.4584622e-18\n",
      "  9.1749271e-19 1.0713637e-21]]\n",
      "tensor([[0, 0, 0,  ..., 0, 0, 0],\n",
      "        [0, 0, 0,  ..., 0, 0, 0],\n",
      "        [0, 0, 0,  ..., 0, 0, 0],\n",
      "        ...,\n",
      "        [0, 0, 0,  ..., 0, 0, 0],\n",
      "        [0, 0, 0,  ..., 0, 0, 0],\n",
      "        [0, 0, 0,  ..., 0, 0, 0]])\n",
      "torch.Size([4, 240, 240])\n"
     ]
    }
   ],
   "source": [
    "patient_idx = 0 # Test on random\n",
    "scan, mask = dataset[patient_idx]\n",
    "scan = scan.permute(3,0,1,2).cuda()\n",
    "mask = mask.permute(2,0,1)\n",
    "\n",
    "model.eval()\n",
    "\n",
    "layer = 70\n",
    "\n",
    "print (\"each inp\", scan[layer].unsqueeze(dim=0).shape)\n",
    "out = model(scan[layer].unsqueeze(dim=0))\n",
    "\n",
    "out.cpu()\n",
    "out = out[0, :, :, :]\n",
    "print(\"output shape\", out.shape)\n",
    "\n",
    "fig, axs = plt.subplots(1, 6, figsize=(15, 5))\n",
    "    \n",
    "axs[0].imshow(out[0][:, :].cpu().detach().numpy(), cmap='gray')\n",
    "axs[1].imshow(out[1][:, :].cpu().detach().numpy(), cmap='gray')\n",
    "axs[2].imshow(out[2][:, :].cpu().detach().numpy(), cmap='gray')\n",
    "axs[3].imshow(out[3][:, :].cpu().detach().numpy(), cmap='gray')\n",
    "\n",
    "axs[4].imshow(scan[layer][3].cpu().detach().numpy(), cmap='gray') # second is modality\n",
    "axs[5].imshow(mask[layer, :, :], cmap='gray')\n",
    "axs[5].set_title('Segmentation Mask')\n",
    "plt.show()\n",
    "print (out[3][:, :].cpu().detach().numpy())\n",
    "print (mask[layer, :, :])\n",
    "print(out.shape)\n"
   ]
  },
  {
   "cell_type": "code",
   "execution_count": 13,
   "metadata": {},
   "outputs": [],
   "source": [
    "# validation loop\n",
    "correct = 0\n",
    "total = 0\n",
    "with torch.no_grad():\n",
    "    for data in test_loader:\n",
    "        images, labels = data\n",
    "        images, labels = images.to(device), labels.to(device)\n",
    "        outputs = model(images)\n",
    "        _, predicted = torch.max(outputs.data, 1)\n",
    "        total += labels.size(0)\n",
    "        correct += (predicted == labels).sum().item()\n",
    "\n",
    "print('Accuracy of the network on the 251 test images: %d %%' % (\n",
    "    100 * correct / total))\n",
    "writer.add_scalar('validation accuracy', 100 * correct / total, epoch)"
   ]
  },
  {
   "cell_type": "code",
   "execution_count": 11,
   "metadata": {},
   "outputs": [
    {
     "data": {
      "text/plain": [
       "tensor([[[[1603.5742, 1603.5742, 1603.5742,  ..., 1603.5742, 1603.5742,\n",
       "           1603.5742],\n",
       "          [1603.5742, 1603.5742, 1603.5742,  ..., 1603.5742, 1603.5742,\n",
       "           1603.5742],\n",
       "          [1603.5742, 1603.5742, 1603.5742,  ..., 1603.5742, 1603.5742,\n",
       "           1603.5742],\n",
       "          ...,\n",
       "          [1603.5742, 1603.5742, 1603.5742,  ..., 1603.5742, 1603.5742,\n",
       "           1603.5742],\n",
       "          [1603.5742, 1603.5742, 1603.5742,  ..., 1603.5742, 1603.5742,\n",
       "           1603.5742],\n",
       "          [1603.5742, 1603.5742, 1603.5742,  ..., 1603.5742, 1603.5742,\n",
       "           1603.5742]]]], device='cuda:0', grad_fn=<ConvolutionBackward0>)"
      ]
     },
     "execution_count": 11,
     "metadata": {},
     "output_type": "execute_result"
    }
   ],
   "source": [
    "checkpoint = torch.load('checkpoint.pth')\n",
    "\n",
    "model.load_state_dict(checkpoint['model_state_dict'])\n",
    "\n",
    "patient_idx = 1 # Test on random\n",
    "scan, mask = dataset[patient_idx]\n",
    "scan = scan.permute(3,0,1,2).cuda()\n",
    "mask = mask.permute(2,0,1).cuda()\n",
    "model(scan[0].unsqueeze(dim=0))"
   ]
  },
  {
   "cell_type": "code",
   "execution_count": 30,
   "metadata": {},
   "outputs": [
    {
     "name": "stdout",
     "output_type": "stream",
     "text": [
      "torch.Size([4, 240, 240])\n"
     ]
    },
    {
     "data": {
      "image/png": "[encoded data removed]",
      "text/plain": [
       "<Figure size 1080x360 with 5 Axes>"
      ]
     },
     "metadata": {
      "needs_background": "light"
     },
     "output_type": "display_data"
    }
   ],
   "source": [
    "patient_idx = 1 # Test on random\n",
    "scan, mask = dataset[patient_idx]\n",
    "\n",
    "# Load single image\n",
    "testttt = scan\n",
    "\n",
    "# Convert input tensor to same data type as model parameters\n",
    "testttt = testttt.type(model.parameters().__next__().dtype)\n",
    "scan = scan[:,:,:,100]\n",
    "print (scan.shape)\n",
    "\n",
    "fig, axs = plt.subplots(1, 5, figsize=(15, 5))\n",
    "for i in range(4):\n",
    "    axs[i].imshow(scan[i][:, :], cmap='gray')\n",
    "    axs[i].set_title(f'Modality {i+1}')\n",
    "axs[4].imshow(mask[:, :, 100], cmap='gray')\n",
    "axs[4].set_title('Segmentation Mask')\n",
    "plt.show()"
   ]
  },
  {
   "cell_type": "code",
   "execution_count": 51,
   "metadata": {},
   "outputs": [
    {
     "data": {
      "text/plain": [
       "torch.Size([1, 1, 240, 240])"
      ]
     },
     "execution_count": 51,
     "metadata": {},
     "output_type": "execute_result"
    }
   ],
   "source": [
    "scan = scan.cuda()\n",
    "picpic = model (scan.unsqueeze(dim=0)).cpu()\n",
    "picpic.shape"
   ]
  },
  {
   "cell_type": "code",
   "execution_count": 52,
   "metadata": {},
   "outputs": [
    {
     "data": {
      "image/png": "[encoded data removed]",
      "text/plain": [
       "<Figure size 1080x360 with 2 Axes>"
      ]
     },
     "metadata": {
      "needs_background": "light"
     },
     "output_type": "display_data"
    },
    {
     "name": "stdout",
     "output_type": "stream",
     "text": [
      "[[[[1603.5742 1603.5742 1603.5742 ... 1603.5742 1603.5742 1603.5742]\n",
      "   [1603.5742 1603.5742 1603.5742 ... 1603.5742 1603.5742 1603.5742]\n",
      "   [1603.5742 1603.5742 1603.5742 ... 1603.5742 1603.5742 1603.5742]\n",
      "   ...\n",
      "   [1603.5742 1603.5742 1603.5742 ... 1603.5742 1603.5742 1603.5742]\n",
      "   [1603.5742 1603.5742 1603.5742 ... 1603.5742 1603.5742 1603.5742]\n",
      "   [1603.5742 1603.5742 1603.5742 ... 1603.5742 1603.5742 1603.5742]]]]\n",
      "tensor([[0, 0, 0,  ..., 0, 0, 0],\n",
      "        [0, 0, 0,  ..., 0, 0, 0],\n",
      "        [0, 0, 0,  ..., 0, 0, 0],\n",
      "        ...,\n",
      "        [0, 0, 0,  ..., 0, 0, 0],\n",
      "        [0, 0, 0,  ..., 0, 0, 0],\n",
      "        [0, 0, 0,  ..., 0, 0, 0]])\n"
     ]
    }
   ],
   "source": [
    "picpic = picpic.detach().numpy()\n",
    "fig, axs = plt.subplots(1, 2, figsize=(15, 5))\n",
    "axs[0].imshow(picpic[0][0][:, :], cmap='gray')\n",
    "axs[1].imshow(mask[:, :, 100], cmap='gray')\n",
    "axs[1].set_title('Segmentation Mask')\n",
    "plt.show()\n",
    "print (picpic)\n",
    "print (mask[:, :, 100])"
   ]
  },
  {
   "cell_type": "code",
   "execution_count": 59,
   "metadata": {},
   "outputs": [
    {
     "data": {
      "text/plain": [
       "1603.5742"
      ]
     },
     "execution_count": 59,
     "metadata": {},
     "output_type": "execute_result"
    }
   ],
   "source": [
    "test1 = picpic[0, 0, :, :]\n",
    "test1[100, 210]"
   ]
  },
  {
   "cell_type": "code",
   "execution_count": 62,
   "metadata": {},
   "outputs": [
    {
     "data": {
      "text/plain": [
       "tensor(3)"
      ]
     },
     "execution_count": 62,
     "metadata": {},
     "output_type": "execute_result"
    }
   ],
   "source": [
    "mask[140, 90, 100]"
   ]
  },
  {
   "cell_type": "code",
   "execution_count": 66,
   "metadata": {},
   "outputs": [
    {
     "data": {
      "text/plain": [
       "tensor([[0.4366, 0.2634, 0.3000],\n",
       "        [0.7727, 0.1452, 0.0820]])"
      ]
     },
     "execution_count": 66,
     "metadata": {},
     "output_type": "execute_result"
    }
   ],
   "source": [
    "m = nn.Softmax(dim=1)\n",
    "kk = torch.randn(2, 3)\n",
    "aa = m(kk)\n",
    "aa"
   ]
  },
  {
   "cell_type": "code",
   "execution_count": null,
   "metadata": {},
   "outputs": [],
   "source": []
  }
 ],
 "metadata": {
  "kernelspec": {
   "display_name": "base",
   "language": "python",
   "name": "python3"
  },
  "language_info": {
   "codemirror_mode": {
    "name": "ipython",
    "version": 3
   },
   "file_extension": ".py",
   "mimetype": "text/x-python",
   "name": "python",
   "nbconvert_exporter": "python",
   "pygments_lexer": "ipython3",
   "version": "3.9.7"
  },
  "orig_nbformat": 4
 },
 "nbformat": 4,
 "nbformat_minor": 2
}
